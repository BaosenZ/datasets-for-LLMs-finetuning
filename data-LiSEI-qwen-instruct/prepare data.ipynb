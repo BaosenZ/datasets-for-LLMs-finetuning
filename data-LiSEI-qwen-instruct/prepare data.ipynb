{
 "cells": [
  {
   "cell_type": "markdown",
   "id": "dda1b172",
   "metadata": {},
   "source": [
    "## Import packages"
   ]
  },
  {
   "cell_type": "code",
   "execution_count": null,
   "id": "6e032a4f",
   "metadata": {},
   "outputs": [],
   "source": [
    "import os\n",
    "from dotenv import load_dotenv\n",
    "import json\n",
    "\n",
    "import pandas as pd\n",
    "\n",
    "from sklearn.model_selection import train_test_split"
   ]
  },
  {
   "cell_type": "markdown",
   "id": "e60ac89a",
   "metadata": {},
   "source": [
    "## Set Params"
   ]
  },
  {
   "cell_type": "code",
   "execution_count": 2,
   "id": "2b171dbd",
   "metadata": {},
   "outputs": [],
   "source": [
    "# File path\n",
    "\n",
    "all_compos_dataset_file_path = 'orig-data/training.xlsx'\n",
    "\n",
    "train_compo_file_path = 'train_compo.csv'\n",
    "eval_compo_file_path = 'eval_compo.csv'\n",
    "\n",
    "# output_JSONdata_RFT_file_path = 'dataRFT/LiSEI_train.jsonl'"
   ]
  },
  {
   "cell_type": "markdown",
   "id": "b14f4293",
   "metadata": {},
   "source": [
    "## Prepare Datasets"
   ]
  },
  {
   "cell_type": "code",
   "execution_count": 3,
   "id": "fefb871b",
   "metadata": {},
   "outputs": [
    {
     "name": "stdout",
     "output_type": "stream",
     "text": [
      "(50, 2)\n"
     ]
    },
    {
     "data": {
      "text/html": [
       "<div>\n",
       "<style scoped>\n",
       "    .dataframe tbody tr th:only-of-type {\n",
       "        vertical-align: middle;\n",
       "    }\n",
       "\n",
       "    .dataframe tbody tr th {\n",
       "        vertical-align: top;\n",
       "    }\n",
       "\n",
       "    .dataframe thead th {\n",
       "        text-align: right;\n",
       "    }\n",
       "</style>\n",
       "<table border=\"1\" class=\"dataframe\">\n",
       "  <thead>\n",
       "    <tr style=\"text-align: right;\">\n",
       "      <th></th>\n",
       "      <th>composition</th>\n",
       "      <th>class</th>\n",
       "    </tr>\n",
       "  </thead>\n",
       "  <tbody>\n",
       "    <tr>\n",
       "      <th>0</th>\n",
       "      <td>Li6NBr3</td>\n",
       "      <td>True</td>\n",
       "    </tr>\n",
       "    <tr>\n",
       "      <th>1</th>\n",
       "      <td>Li2S</td>\n",
       "      <td>True</td>\n",
       "    </tr>\n",
       "    <tr>\n",
       "      <th>2</th>\n",
       "      <td>Li7PN4</td>\n",
       "      <td>True</td>\n",
       "    </tr>\n",
       "  </tbody>\n",
       "</table>\n",
       "</div>"
      ],
      "text/plain": [
       "  composition  class\n",
       "0     Li6NBr3   True\n",
       "1        Li2S   True\n",
       "2      Li7PN4   True"
      ]
     },
     "execution_count": 3,
     "metadata": {},
     "output_type": "execute_result"
    }
   ],
   "source": [
    "# Load the composition dataset\n",
    "\n",
    "all_compos_df = pd.read_excel(all_compos_dataset_file_path)\n",
    "\n",
    "# Retain only 'composition' and 'class' columns\n",
    "all_compos_df = all_compos_df[['composition', 'class']]\n",
    "\n",
    "print(all_compos_df.shape)\n",
    "all_compos_df.head(3)"
   ]
  },
  {
   "cell_type": "code",
   "execution_count": 4,
   "id": "c0a1f15c",
   "metadata": {},
   "outputs": [
    {
     "name": "stdout",
     "output_type": "stream",
     "text": [
      "(40, 2)\n"
     ]
    },
    {
     "data": {
      "text/html": [
       "<div>\n",
       "<style scoped>\n",
       "    .dataframe tbody tr th:only-of-type {\n",
       "        vertical-align: middle;\n",
       "    }\n",
       "\n",
       "    .dataframe tbody tr th {\n",
       "        vertical-align: top;\n",
       "    }\n",
       "\n",
       "    .dataframe thead th {\n",
       "        text-align: right;\n",
       "    }\n",
       "</style>\n",
       "<table border=\"1\" class=\"dataframe\">\n",
       "  <thead>\n",
       "    <tr style=\"text-align: right;\">\n",
       "      <th></th>\n",
       "      <th>composition</th>\n",
       "      <th>class</th>\n",
       "    </tr>\n",
       "  </thead>\n",
       "  <tbody>\n",
       "    <tr>\n",
       "      <th>27</th>\n",
       "      <td>Li6FeCl8</td>\n",
       "      <td>False</td>\n",
       "    </tr>\n",
       "    <tr>\n",
       "      <th>6</th>\n",
       "      <td>Sr2LiCBr3N2</td>\n",
       "      <td>True</td>\n",
       "    </tr>\n",
       "    <tr>\n",
       "      <th>23</th>\n",
       "      <td>LiHoS2</td>\n",
       "      <td>False</td>\n",
       "    </tr>\n",
       "  </tbody>\n",
       "</table>\n",
       "</div>"
      ],
      "text/plain": [
       "    composition  class\n",
       "27     Li6FeCl8  False\n",
       "6   Sr2LiCBr3N2   True\n",
       "23       LiHoS2  False"
      ]
     },
     "execution_count": 4,
     "metadata": {},
     "output_type": "execute_result"
    }
   ],
   "source": [
    "# Split train and test\n",
    "train_Compo_df, eval_Compo_df = train_test_split(all_compos_df, test_size=0.2, stratify=all_compos_df['class'], random_state=42)\n",
    "\n",
    "print(train_Compo_df.shape)\n",
    "# train_oneCompo_df = train_Compo_df.sort_values(by='class', ascending=False)\n",
    "train_Compo_df.head(3)"
   ]
  },
  {
   "cell_type": "code",
   "execution_count": 5,
   "id": "d5591bf1",
   "metadata": {},
   "outputs": [],
   "source": [
    "train_Compo_df.to_csv(train_compo_file_path, index=False)\n",
    "eval_Compo_df.to_csv(eval_compo_file_path, index=False)"
   ]
  },
  {
   "cell_type": "markdown",
   "id": "d6536a2f",
   "metadata": {},
   "source": [
    "## Prepare datasets for finetuning"
   ]
  },
  {
   "cell_type": "code",
   "execution_count": 6,
   "id": "990dc0da",
   "metadata": {},
   "outputs": [],
   "source": [
    "# prepare JSON compositions table\n",
    "\n",
    "# records = []\n",
    "\n",
    "# for i in range(5):\n",
    "#     shuffled_df = train_Compo_df.sample(frac=1, random_state=i).reset_index(drop=True)\n",
    "#     train_compo_json = shuffled_df.to_json(orient=\"records\")\n",
    "#     # Append eval\n",
    "#     eval_compo_json = eval_Compo_df.to_json(orient=\"records\")\n",
    "    \n",
    "#     records.append({\"train_compositions_table\": train_compo_json,\n",
    "#                     \"eval_compositions_table\": eval_compo_json,})\n",
    "\n",
    "# train_prompt_df = pd.DataFrame(records)\n",
    "# train_prompt_df"
   ]
  },
  {
   "cell_type": "code",
   "execution_count": 7,
   "id": "a9f97ea8",
   "metadata": {},
   "outputs": [],
   "source": [
    "# # Prepare prompt and datasets for RFT\n",
    "\n",
    "# template = \"\"\"<|im_start|>system\n",
    "# You are an expert solid state chemist studying the stability of interfaces of materials with metallic lithium.<|im_end|>\n",
    "# <|im_start|>user\n",
    "# Formulate general rules that could be used to predict the stability of a new material based on the observations in compositions table.\n",
    "# The stable composition is \"True\" in \"class\" column, while the unstable composition is \"False\" in \"class\" column. Compositions table is shown below:\n",
    "# {train_compositions_table}\n",
    "# Show your work in <think> </think> tags. And return the final general rules in <answer> </answer> tags.<|im_end|>\n",
    "# <|im_start|>assistant\n",
    "# Let me solve this step by step.\n",
    "# <think>\n",
    "# \"\"\"\n",
    "\n",
    "# def format_row(row):\n",
    "#     return template.format(\n",
    "#         train_compositions_table=row[\"train_compositions_table\"],\n",
    "#         # target=row[\"target\"]\n",
    "#     )\n",
    "\n",
    "# train_prompt_df[\"prompt\"] = train_prompt_df.apply(format_row, axis=1)\n",
    "\n",
    "# print(train_prompt_df.iloc[0][\"prompt\"])\n",
    "\n",
    "# train_prompt_df.head(3)"
   ]
  },
  {
   "cell_type": "code",
   "execution_count": 8,
   "id": "d4001f78",
   "metadata": {},
   "outputs": [],
   "source": [
    "# train_prompt_file_path = \"train_prompt.csv\"\n",
    "\n",
    "# train_prompt_df.to_csv(train_prompt_file_path, index=False)"
   ]
  }
 ],
 "metadata": {
  "kernelspec": {
   "display_name": "base",
   "language": "python",
   "name": "python3"
  },
  "language_info": {
   "codemirror_mode": {
    "name": "ipython",
    "version": 3
   },
   "file_extension": ".py",
   "mimetype": "text/x-python",
   "name": "python",
   "nbconvert_exporter": "python",
   "pygments_lexer": "ipython3",
   "version": "3.11.7"
  }
 },
 "nbformat": 4,
 "nbformat_minor": 5
}
