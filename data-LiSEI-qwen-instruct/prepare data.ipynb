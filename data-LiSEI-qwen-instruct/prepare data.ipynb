{
 "cells": [
  {
   "cell_type": "markdown",
   "id": "dda1b172",
   "metadata": {},
   "source": [
    "## Import packages"
   ]
  },
  {
   "cell_type": "code",
   "execution_count": 1,
   "id": "6e032a4f",
   "metadata": {},
   "outputs": [],
   "source": [
    "import os\n",
    "import json\n",
    "\n",
    "import pandas as pd\n",
    "\n",
    "from sklearn.model_selection import train_test_split"
   ]
  },
  {
   "cell_type": "markdown",
   "id": "e60ac89a",
   "metadata": {},
   "source": [
    "## Set Params"
   ]
  },
  {
   "cell_type": "code",
   "execution_count": 2,
   "id": "2b171dbd",
   "metadata": {},
   "outputs": [],
   "source": [
    "# Loaded file path\n",
    "all_compos_dataset_file_path = 'orig-data/training.xlsx'\n",
    "all_compos_test_dataset_file_path = 'orig-data/test.xlsx'\n",
    "\n",
    "# Saved file path\n",
    "train_compo_file_path = 'train_compo.csv'\n",
    "eval_compo_file_path = 'eval_compo.csv'\n",
    "test_compo_file_path = 'test_compo.csv'\n",
    "\n",
    "# Saved file path for LLMs Finetune\n",
    "# output_JSONdata_RFT_file_path = 'dataRFT/LiSEI_train.jsonl'"
   ]
  },
  {
   "cell_type": "markdown",
   "id": "b14f4293",
   "metadata": {},
   "source": [
    "## Prepare Datasets"
   ]
  },
  {
   "cell_type": "code",
   "execution_count": 3,
   "id": "fefb871b",
   "metadata": {},
   "outputs": [
    {
     "name": "stdout",
     "output_type": "stream",
     "text": [
      "(50, 2)\n"
     ]
    },
    {
     "data": {
      "text/html": [
       "<div>\n",
       "<style scoped>\n",
       "    .dataframe tbody tr th:only-of-type {\n",
       "        vertical-align: middle;\n",
       "    }\n",
       "\n",
       "    .dataframe tbody tr th {\n",
       "        vertical-align: top;\n",
       "    }\n",
       "\n",
       "    .dataframe thead th {\n",
       "        text-align: right;\n",
       "    }\n",
       "</style>\n",
       "<table border=\"1\" class=\"dataframe\">\n",
       "  <thead>\n",
       "    <tr style=\"text-align: right;\">\n",
       "      <th></th>\n",
       "      <th>composition</th>\n",
       "      <th>class</th>\n",
       "    </tr>\n",
       "  </thead>\n",
       "  <tbody>\n",
       "    <tr>\n",
       "      <th>0</th>\n",
       "      <td>Li6NBr3</td>\n",
       "      <td>True</td>\n",
       "    </tr>\n",
       "    <tr>\n",
       "      <th>1</th>\n",
       "      <td>Li2S</td>\n",
       "      <td>True</td>\n",
       "    </tr>\n",
       "    <tr>\n",
       "      <th>2</th>\n",
       "      <td>Li7PN4</td>\n",
       "      <td>True</td>\n",
       "    </tr>\n",
       "  </tbody>\n",
       "</table>\n",
       "</div>"
      ],
      "text/plain": [
       "  composition  class\n",
       "0     Li6NBr3   True\n",
       "1        Li2S   True\n",
       "2      Li7PN4   True"
      ]
     },
     "execution_count": 3,
     "metadata": {},
     "output_type": "execute_result"
    }
   ],
   "source": [
    "# Load the composition dataset\n",
    "\n",
    "all_compos_df = pd.read_excel(all_compos_dataset_file_path)\n",
    "\n",
    "# Retain only 'composition' and 'class' columns\n",
    "all_compos_df = all_compos_df[['composition', 'class']]\n",
    "\n",
    "print(all_compos_df.shape)\n",
    "all_compos_df.head(3)"
   ]
  },
  {
   "cell_type": "code",
   "execution_count": 4,
   "id": "c0a1f15c",
   "metadata": {},
   "outputs": [
    {
     "name": "stdout",
     "output_type": "stream",
     "text": [
      "(40, 2)\n"
     ]
    },
    {
     "data": {
      "text/html": [
       "<div>\n",
       "<style scoped>\n",
       "    .dataframe tbody tr th:only-of-type {\n",
       "        vertical-align: middle;\n",
       "    }\n",
       "\n",
       "    .dataframe tbody tr th {\n",
       "        vertical-align: top;\n",
       "    }\n",
       "\n",
       "    .dataframe thead th {\n",
       "        text-align: right;\n",
       "    }\n",
       "</style>\n",
       "<table border=\"1\" class=\"dataframe\">\n",
       "  <thead>\n",
       "    <tr style=\"text-align: right;\">\n",
       "      <th></th>\n",
       "      <th>composition</th>\n",
       "      <th>class</th>\n",
       "    </tr>\n",
       "  </thead>\n",
       "  <tbody>\n",
       "    <tr>\n",
       "      <th>7</th>\n",
       "      <td>Li7La3Zr2O12</td>\n",
       "      <td>True</td>\n",
       "    </tr>\n",
       "    <tr>\n",
       "      <th>16</th>\n",
       "      <td>Li2PNO2</td>\n",
       "      <td>True</td>\n",
       "    </tr>\n",
       "    <tr>\n",
       "      <th>4</th>\n",
       "      <td>LiMgN</td>\n",
       "      <td>True</td>\n",
       "    </tr>\n",
       "  </tbody>\n",
       "</table>\n",
       "</div>"
      ],
      "text/plain": [
       "     composition  class\n",
       "7   Li7La3Zr2O12   True\n",
       "16       Li2PNO2   True\n",
       "4          LiMgN   True"
      ]
     },
     "execution_count": 4,
     "metadata": {},
     "output_type": "execute_result"
    }
   ],
   "source": [
    "# Split train and test\n",
    "train_Compo_df, eval_Compo_df = train_test_split(all_compos_df, test_size=0.2, stratify=all_compos_df['class'], random_state=42)\n",
    "\n",
    "print(train_Compo_df.shape)\n",
    "train_Compo_df = train_Compo_df.sort_values(by='class', ascending=False)\n",
    "train_Compo_df.head(3)"
   ]
  },
  {
   "cell_type": "code",
   "execution_count": 10,
   "id": "4922db7d",
   "metadata": {},
   "outputs": [
    {
     "data": {
      "text/html": [
       "<div>\n",
       "<style scoped>\n",
       "    .dataframe tbody tr th:only-of-type {\n",
       "        vertical-align: middle;\n",
       "    }\n",
       "\n",
       "    .dataframe tbody tr th {\n",
       "        vertical-align: top;\n",
       "    }\n",
       "\n",
       "    .dataframe thead th {\n",
       "        text-align: right;\n",
       "    }\n",
       "</style>\n",
       "<table border=\"1\" class=\"dataframe\">\n",
       "  <thead>\n",
       "    <tr style=\"text-align: right;\">\n",
       "      <th></th>\n",
       "      <th>composition</th>\n",
       "      <th>class</th>\n",
       "    </tr>\n",
       "  </thead>\n",
       "  <tbody>\n",
       "    <tr>\n",
       "      <th>25</th>\n",
       "      <td>Li2TiSiO5</td>\n",
       "      <td>False</td>\n",
       "    </tr>\n",
       "    <tr>\n",
       "      <th>33</th>\n",
       "      <td>Li6ZnGe2O8</td>\n",
       "      <td>False</td>\n",
       "    </tr>\n",
       "    <tr>\n",
       "      <th>14</th>\n",
       "      <td>LiSmS2</td>\n",
       "      <td>True</td>\n",
       "    </tr>\n",
       "    <tr>\n",
       "      <th>47</th>\n",
       "      <td>Li7P3S11</td>\n",
       "      <td>False</td>\n",
       "    </tr>\n",
       "    <tr>\n",
       "      <th>26</th>\n",
       "      <td>LiAlSiO4</td>\n",
       "      <td>False</td>\n",
       "    </tr>\n",
       "    <tr>\n",
       "      <th>15</th>\n",
       "      <td>LiTaO3</td>\n",
       "      <td>True</td>\n",
       "    </tr>\n",
       "    <tr>\n",
       "      <th>9</th>\n",
       "      <td>Li2TiO3</td>\n",
       "      <td>True</td>\n",
       "    </tr>\n",
       "    <tr>\n",
       "      <th>13</th>\n",
       "      <td>Li(BH)6</td>\n",
       "      <td>True</td>\n",
       "    </tr>\n",
       "    <tr>\n",
       "      <th>29</th>\n",
       "      <td>Li3ErCl6</td>\n",
       "      <td>False</td>\n",
       "    </tr>\n",
       "    <tr>\n",
       "      <th>38</th>\n",
       "      <td>LiMnPO4</td>\n",
       "      <td>False</td>\n",
       "    </tr>\n",
       "  </tbody>\n",
       "</table>\n",
       "</div>"
      ],
      "text/plain": [
       "   composition  class\n",
       "25   Li2TiSiO5  False\n",
       "33  Li6ZnGe2O8  False\n",
       "14      LiSmS2   True\n",
       "47    Li7P3S11  False\n",
       "26    LiAlSiO4  False\n",
       "15      LiTaO3   True\n",
       "9      Li2TiO3   True\n",
       "13     Li(BH)6   True\n",
       "29    Li3ErCl6  False\n",
       "38     LiMnPO4  False"
      ]
     },
     "execution_count": 10,
     "metadata": {},
     "output_type": "execute_result"
    }
   ],
   "source": [
    "eval_Compo_df"
   ]
  },
  {
   "cell_type": "code",
   "execution_count": 5,
   "id": "861ff63c",
   "metadata": {},
   "outputs": [
    {
     "name": "stdout",
     "output_type": "stream",
     "text": [
      "(17, 2)\n"
     ]
    },
    {
     "data": {
      "text/html": [
       "<div>\n",
       "<style scoped>\n",
       "    .dataframe tbody tr th:only-of-type {\n",
       "        vertical-align: middle;\n",
       "    }\n",
       "\n",
       "    .dataframe tbody tr th {\n",
       "        vertical-align: top;\n",
       "    }\n",
       "\n",
       "    .dataframe thead th {\n",
       "        text-align: right;\n",
       "    }\n",
       "</style>\n",
       "<table border=\"1\" class=\"dataframe\">\n",
       "  <thead>\n",
       "    <tr style=\"text-align: right;\">\n",
       "      <th></th>\n",
       "      <th>composition</th>\n",
       "      <th>class</th>\n",
       "    </tr>\n",
       "  </thead>\n",
       "  <tbody>\n",
       "    <tr>\n",
       "      <th>0</th>\n",
       "      <td>LiCaAlN2</td>\n",
       "      <td>True</td>\n",
       "    </tr>\n",
       "    <tr>\n",
       "      <th>1</th>\n",
       "      <td>LiSiB6</td>\n",
       "      <td>True</td>\n",
       "    </tr>\n",
       "    <tr>\n",
       "      <th>2</th>\n",
       "      <td>LiB12PC</td>\n",
       "      <td>True</td>\n",
       "    </tr>\n",
       "  </tbody>\n",
       "</table>\n",
       "</div>"
      ],
      "text/plain": [
       "  composition  class\n",
       "0    LiCaAlN2   True\n",
       "1      LiSiB6   True\n",
       "2     LiB12PC   True"
      ]
     },
     "execution_count": 5,
     "metadata": {},
     "output_type": "execute_result"
    }
   ],
   "source": [
    "# Load the composition test dataset\n",
    "\n",
    "all_compos_test_df = pd.read_excel(all_compos_test_dataset_file_path)\n",
    "\n",
    "# Retain only 'composition' and 'class' columns\n",
    "test_Compo_df = all_compos_test_df[['composition', 'class']]\n",
    "\n",
    "print(test_Compo_df.shape)\n",
    "test_Compo_df.head(3)"
   ]
  },
  {
   "cell_type": "code",
   "execution_count": 6,
   "id": "d5591bf1",
   "metadata": {},
   "outputs": [],
   "source": [
    "train_Compo_df.to_csv(train_compo_file_path, index=False)\n",
    "eval_Compo_df.to_csv(eval_compo_file_path, index=False)\n",
    "test_Compo_df.to_csv(test_compo_file_path, index=False)"
   ]
  },
  {
   "cell_type": "markdown",
   "id": "d6536a2f",
   "metadata": {},
   "source": [
    "## Prepare datasets for finetuning"
   ]
  },
  {
   "cell_type": "code",
   "execution_count": 7,
   "id": "990dc0da",
   "metadata": {},
   "outputs": [],
   "source": [
    "# prepare JSON compositions table\n",
    "\n",
    "# records = []\n",
    "\n",
    "# for i in range(5):\n",
    "#     shuffled_df = train_Compo_df.sample(frac=1, random_state=i).reset_index(drop=True)\n",
    "#     train_compo_json = shuffled_df.to_json(orient=\"records\")\n",
    "#     # Append eval\n",
    "#     eval_compo_json = eval_Compo_df.to_json(orient=\"records\")\n",
    "    \n",
    "#     records.append({\"train_compositions_table\": train_compo_json,\n",
    "#                     \"eval_compositions_table\": eval_compo_json,})\n",
    "\n",
    "# train_prompt_df = pd.DataFrame(records)\n",
    "# train_prompt_df"
   ]
  },
  {
   "cell_type": "code",
   "execution_count": 8,
   "id": "a9f97ea8",
   "metadata": {},
   "outputs": [],
   "source": [
    "# # Prepare prompt and datasets for RFT\n",
    "\n",
    "# template = \"\"\"<|im_start|>system\n",
    "# You are an expert solid state chemist studying the stability of interfaces of materials with metallic lithium.<|im_end|>\n",
    "# <|im_start|>user\n",
    "# Formulate general rules that could be used to predict the stability of a new material based on the observations in compositions table.\n",
    "# The stable composition is \"True\" in \"class\" column, while the unstable composition is \"False\" in \"class\" column. Compositions table is shown below:\n",
    "# {train_compositions_table}\n",
    "# Show your work in <think> </think> tags. And return the final general rules in <answer> </answer> tags.<|im_end|>\n",
    "# <|im_start|>assistant\n",
    "# Let me solve this step by step.\n",
    "# <think>\n",
    "# \"\"\"\n",
    "\n",
    "# def format_row(row):\n",
    "#     return template.format(\n",
    "#         train_compositions_table=row[\"train_compositions_table\"],\n",
    "#         # target=row[\"target\"]\n",
    "#     )\n",
    "\n",
    "# train_prompt_df[\"prompt\"] = train_prompt_df.apply(format_row, axis=1)\n",
    "\n",
    "# print(train_prompt_df.iloc[0][\"prompt\"])\n",
    "\n",
    "# train_prompt_df.head(3)"
   ]
  },
  {
   "cell_type": "code",
   "execution_count": 9,
   "id": "d4001f78",
   "metadata": {},
   "outputs": [],
   "source": [
    "# train_prompt_file_path = \"train_prompt.csv\"\n",
    "\n",
    "# train_prompt_df.to_csv(train_prompt_file_path, index=False)"
   ]
  }
 ],
 "metadata": {
  "kernelspec": {
   "display_name": "base",
   "language": "python",
   "name": "python3"
  },
  "language_info": {
   "codemirror_mode": {
    "name": "ipython",
    "version": 3
   },
   "file_extension": ".py",
   "mimetype": "text/x-python",
   "name": "python",
   "nbconvert_exporter": "python",
   "pygments_lexer": "ipython3",
   "version": "3.11.7"
  }
 },
 "nbformat": 4,
 "nbformat_minor": 5
}
